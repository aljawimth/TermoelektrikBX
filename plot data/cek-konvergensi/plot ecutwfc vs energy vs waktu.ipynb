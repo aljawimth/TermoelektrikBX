import matplotlib.pyplot as plt 
plt.rcParams['figure.dpi']=200 

x = [20, 30, 40, 50, 60, 70, 80, 90, 100] 
y1 = [530.8226219204860000,
38.39,
2.66,
0.21,
0.17,
0.07,
0.01,
0.00,
0.0000000000000000] 
y2 = [41.68, 73.54, 107.32, 156.71, 195.57, 203.35, 316.14, 342.37, 367.08] 

fig, ax1 = plt.subplots()
ax1.scatter(x, y1)
ax1.set_xlabel("Cut-off wavefunction (Ry)", fontsize = 14)
ax1.set_ylabel("$\Delta$E (E - $E_{ref}$)", fontstyle = 'italic' ,fontsize = 14)
#ax1.set_title("$\Delta$E vs Ecutwfc")
ax1.grid()

ax2 = ax1.twinx()
ax2.scatter(x, y2, color='g')
ax2.set_ylabel("Waktu", fontsize = 14)
#ax2.grid(color='red', linestyle='--')

ax = plt.gca()
ax.plot([80], [0.01], 'o', color='red')
ax.annotate('titik pilihan', xy=(80, 0.01), xytext=(80, 30),
            arrowprops=dict(facecolor='black', shrink=0.05), color='red')
ax = plt.gca()
ax.plot([80], [316.14], 'o', color='red')
ax.annotate('titik pilihan', xy=(80, 316.14), xytext=(80, 316.14),
            arrowprops=dict(facecolor='black', shrink=0.05), color='red')

plt.show()
