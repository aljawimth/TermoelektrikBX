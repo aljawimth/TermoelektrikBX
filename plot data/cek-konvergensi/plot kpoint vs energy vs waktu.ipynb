import matplotlib.pyplot as plt 
plt.rcParams['figure.dpi']=200 

x = [3, 5, 7, 9, 11, 13, 15, 17, 19, 21, 23] 
y1 = [0.7480780679,
0.0688303040,
0.0078885872,
0.0010721295,
0.0001649011,
0.0000665319,
0.0000035375,
0.0000036735,
0.0000074831,
0.0000142860,
0.0000000000] 
y2 = [21.02,
31.21,
45.62,
62.84,
85.67,
105.73,
134.91,
159.17,
186.69,
221.85,
263.08] 

fig, ax1 = plt.subplots()
ax1.scatter(x, y1)
ax1.set_xlabel("Kpoint (n x n x 1)", fontsize = 14)
ax1.set_ylabel("$\Delta$E (E - $E_{ref}$)", fontsize = 14, fontstyle = 'italic')
#ax1.set_title("$\Delta$E vs Ecutwfc")
ax1.grid()

ax2 = ax1.twinx()
ax2.scatter(x, y2, color='g')
ax2.set_ylabel("Waktu", fontsize = 14)
#ax2.grid(color='red', linestyle='--')

ax = plt.gca()
ax.plot([19], [0.0000074831], 'o', color='red')
ax.annotate('titik pilihan', xy=(19, 0.0000074831), xytext=(19, 0.0000074831),
            arrowprops=dict(facecolor='black', shrink=0.05), color='red')
ax = plt.gca()
ax.plot([19], [186.69], 'o', color='red')
ax.annotate('titik pilihan', xy=(19, 186.69), xytext=(19, 186.69),
            arrowprops=dict(facecolor='black', shrink=0.05), color='red')

plt.show()
