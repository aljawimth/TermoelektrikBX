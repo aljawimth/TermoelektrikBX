# Import the necessary packages and modules
import matplotlib.pyplot as plt
plt.rcParams['figure.dpi']=200
import numpy as np
import scienceplots
plt.style.use('science')

# The Fermi energy, find it in header row of gr.dos
efermi = 1.92775

# Open and read the file gr.dos
ener, dos, idos = np.loadtxt('BSe.dos', unpack=True)
    
# Create figure object
plt.figure()
# Plot the DOS, in which the Fermi energy shifts to zero
plt.plot(ener-efermi, dos, c='m')
# Add the x and y-axis labels
plt.xlabel('Energy (eV)')
plt.ylabel('DOS (state/eV/unit-cell)')
# Set the axis limits
plt.xlim(-6, 6)
plt.ylim(0, 6)
# Save the figure to the pdf file
plt.savefig('plot-dos.png')
# Show the figure
plt.show()
