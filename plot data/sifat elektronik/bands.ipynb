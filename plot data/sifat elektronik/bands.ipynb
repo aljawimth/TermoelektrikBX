# Import the necessary packages and modules
import matplotlib.pyplot as plt
import numpy as np
import scienceplots
plt.style.use('science')

# The Fermi energy, find it in scf.out
efermi = 1.92775

# Load data from gr.bands.gnu
data = np.loadtxt('BSe.bands.gnu')
k = np.unique(data[:, 0])
bands = np.reshape(data[:, 1], (-1, len(k)))
    
# Set high-symmetry points from nscf.in
gG1 = k[1]; M = k[60]; K = k[90]; gG2 = k[140]

# Create figure object
plt.figure()
# Plot dotted line at Fermi energy
plt.axhline(0, c='gray', ls=':')
# Plot dotted lines at high-symmetry points
plt.axvline(K, c='gray')
plt.axvline(M, c='gray')

# Plot band structure
for band in range(len(bands)):
    plt.plot(k, bands[band, :]-efermi, c='m')

# Add the x and y-axis labels
plt.xlabel('')
plt.ylabel('Energy (eV)')
# Set the axis limits
plt.xlim(gG2, gG1)
plt.ylim (-6, 6)
# Add labels for high-symmetry points
plt.xticks([gG1, M, K, gG2], ['$\Gamma$', 'K', 'M', '$\Gamma$'])
# Hide x-axis minor ticks
plt.tick_params(axis='x', which='minor', bottom=False, top=False)
# Save figure to the pdf file
plt.savefig('plot-bands-BSe.png')
# Show figure
plt.show()
